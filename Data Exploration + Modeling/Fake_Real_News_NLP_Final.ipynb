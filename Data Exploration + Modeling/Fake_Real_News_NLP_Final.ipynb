{
 "cells": [
  {
   "cell_type": "code",
   "execution_count": 20,
   "metadata": {},
   "outputs": [],
   "source": [
    "import pandas as pd\n",
    "import numpy as np\n",
    "import seaborn as sns\n",
    "import matplotlib.pyplot as plt\n",
    "import re\n",
    "import string\n",
    "\n",
    "from wordcloud import WordCloud, STOPWORDS\n",
    "from datetime import datetime\n",
    "from sklearn.model_selection import train_test_split\n",
    "from sklearn.metrics import accuracy_score\n",
    "from sklearn.metrics import classification_report"
   ]
  },
  {
   "cell_type": "code",
   "execution_count": 21,
   "metadata": {},
   "outputs": [],
   "source": [
    "df_fake = pd.read_csv(\"Fake.csv\")\n",
    "df_true = pd.read_csv(\"True.csv\")"
   ]
  },
  {
   "cell_type": "code",
   "execution_count": 22,
   "metadata": {},
   "outputs": [],
   "source": [
    "df_fake[\"fake\"] = 1\n",
    "df_true[\"fake\"] = 0"
   ]
  },
  {
   "cell_type": "code",
   "execution_count": 23,
   "metadata": {},
   "outputs": [],
   "source": [
    "df_news = pd.concat([df_fake, df_true])"
   ]
  },
  {
   "cell_type": "code",
   "execution_count": 24,
   "metadata": {},
   "outputs": [
    {
     "data": {
      "text/html": [
       "<div>\n",
       "<style scoped>\n",
       "    .dataframe tbody tr th:only-of-type {\n",
       "        vertical-align: middle;\n",
       "    }\n",
       "\n",
       "    .dataframe tbody tr th {\n",
       "        vertical-align: top;\n",
       "    }\n",
       "\n",
       "    .dataframe thead th {\n",
       "        text-align: right;\n",
       "    }\n",
       "</style>\n",
       "<table border=\"1\" class=\"dataframe\">\n",
       "  <thead>\n",
       "    <tr style=\"text-align: right;\">\n",
       "      <th></th>\n",
       "      <th>title</th>\n",
       "      <th>text</th>\n",
       "      <th>subject</th>\n",
       "      <th>date</th>\n",
       "      <th>fake</th>\n",
       "    </tr>\n",
       "  </thead>\n",
       "  <tbody>\n",
       "    <tr>\n",
       "      <th>0</th>\n",
       "      <td>Donald Trump Sends Out Embarrassing New Year’...</td>\n",
       "      <td>Donald Trump just couldn t wish all Americans ...</td>\n",
       "      <td>News</td>\n",
       "      <td>December 31, 2017</td>\n",
       "      <td>1</td>\n",
       "    </tr>\n",
       "    <tr>\n",
       "      <th>1</th>\n",
       "      <td>Drunk Bragging Trump Staffer Started Russian ...</td>\n",
       "      <td>House Intelligence Committee Chairman Devin Nu...</td>\n",
       "      <td>News</td>\n",
       "      <td>December 31, 2017</td>\n",
       "      <td>1</td>\n",
       "    </tr>\n",
       "    <tr>\n",
       "      <th>2</th>\n",
       "      <td>Sheriff David Clarke Becomes An Internet Joke...</td>\n",
       "      <td>On Friday, it was revealed that former Milwauk...</td>\n",
       "      <td>News</td>\n",
       "      <td>December 30, 2017</td>\n",
       "      <td>1</td>\n",
       "    </tr>\n",
       "    <tr>\n",
       "      <th>3</th>\n",
       "      <td>Trump Is So Obsessed He Even Has Obama’s Name...</td>\n",
       "      <td>On Christmas day, Donald Trump announced that ...</td>\n",
       "      <td>News</td>\n",
       "      <td>December 29, 2017</td>\n",
       "      <td>1</td>\n",
       "    </tr>\n",
       "    <tr>\n",
       "      <th>4</th>\n",
       "      <td>Pope Francis Just Called Out Donald Trump Dur...</td>\n",
       "      <td>Pope Francis used his annual Christmas Day mes...</td>\n",
       "      <td>News</td>\n",
       "      <td>December 25, 2017</td>\n",
       "      <td>1</td>\n",
       "    </tr>\n",
       "  </tbody>\n",
       "</table>\n",
       "</div>"
      ],
      "text/plain": [
       "                                               title  \\\n",
       "0   Donald Trump Sends Out Embarrassing New Year’...   \n",
       "1   Drunk Bragging Trump Staffer Started Russian ...   \n",
       "2   Sheriff David Clarke Becomes An Internet Joke...   \n",
       "3   Trump Is So Obsessed He Even Has Obama’s Name...   \n",
       "4   Pope Francis Just Called Out Donald Trump Dur...   \n",
       "\n",
       "                                                text subject  \\\n",
       "0  Donald Trump just couldn t wish all Americans ...    News   \n",
       "1  House Intelligence Committee Chairman Devin Nu...    News   \n",
       "2  On Friday, it was revealed that former Milwauk...    News   \n",
       "3  On Christmas day, Donald Trump announced that ...    News   \n",
       "4  Pope Francis used his annual Christmas Day mes...    News   \n",
       "\n",
       "                date  fake  \n",
       "0  December 31, 2017     1  \n",
       "1  December 31, 2017     1  \n",
       "2  December 30, 2017     1  \n",
       "3  December 29, 2017     1  \n",
       "4  December 25, 2017     1  "
      ]
     },
     "execution_count": 24,
     "metadata": {},
     "output_type": "execute_result"
    }
   ],
   "source": [
    "df_news.head(5)"
   ]
  },
  {
   "cell_type": "code",
   "execution_count": 25,
   "metadata": {},
   "outputs": [],
   "source": [
    "#Add title to text\n",
    "df_news['text'] = df_news['title'] + df_news['text']\n",
    "df_news.drop(labels=['title'], axis=1, inplace=True)"
   ]
  },
  {
   "cell_type": "markdown",
   "metadata": {},
   "source": [
    "# Pre-processing Dataset"
   ]
  },
  {
   "cell_type": "code",
   "execution_count": 26,
   "metadata": {},
   "outputs": [],
   "source": [
    "import nltk\n",
    "from nltk import pos_tag, pos_tag_sents, word_tokenize\n",
    "#nltk.download('all')"
   ]
  },
  {
   "cell_type": "code",
   "execution_count": 27,
   "metadata": {},
   "outputs": [],
   "source": [
    "#Lowercase, remove punctuation, and remove stopwords\n",
    "def clean_text(text):\n",
    "    stop_words = set(STOPWORDS)\n",
    "    text = text.lower()\n",
    "    text = re.sub(r'\\'s','',text) #This is needed to prevent turning nouns into verb when lemmatizing and POS tagging\n",
    "    text = re.sub(r's\\'','',text)\n",
    "    text = re.sub(r'\\'m',' am',text) #Converts I'm to I am\n",
    "    text = re.sub(r'n\\'t',' not',text) #This is needed to convert the n't to not. \n",
    "    text = re.sub(r'[^\\w\\s]','',text)\n",
    "    \n",
    "    word_tokens = word_tokenize(text)\n",
    "    filtered_sentence = [w for w in word_tokens if not w.lower() in stop_words]\n",
    "  \n",
    "    return filtered_sentence\n",
    "  \n",
    "df_news['text_clean'] = df_news['text'].apply(lambda x: clean_text(x))\n",
    "\n"
   ]
  },
  {
   "cell_type": "code",
   "execution_count": 28,
   "metadata": {},
   "outputs": [
    {
     "data": {
      "text/plain": [
       "0    [donald, trump, sends, embarrassing, new, year...\n",
       "1    [drunk, bragging, trump, staffer, started, rus...\n",
       "2    [sheriff, david, clarke, becomes, internet, jo...\n",
       "3    [trump, obsessed, even, obamas, name, coded, w...\n",
       "4    [pope, francis, called, donald, trump, christm...\n",
       "Name: text_clean, dtype: object"
      ]
     },
     "execution_count": 28,
     "metadata": {},
     "output_type": "execute_result"
    }
   ],
   "source": [
    "df_news['text_clean'].head(5)"
   ]
  },
  {
   "cell_type": "code",
   "execution_count": 29,
   "metadata": {},
   "outputs": [
    {
     "data": {
      "text/plain": [
       "0    donald trump sends embarrassing new years eve ...\n",
       "1    drunk bragging trump staffer started russian c...\n",
       "2    sheriff david clarke becomes internet joke thr...\n",
       "3    trump obsessed even obamas name coded website ...\n",
       "4    pope francis called donald trump christmas spe...\n",
       "Name: text_joined, dtype: object"
      ]
     },
     "execution_count": 29,
     "metadata": {},
     "output_type": "execute_result"
    }
   ],
   "source": [
    "df_news['text_joined'] = df_news['text_clean'].apply(lambda x: ' '.join(x))\n",
    "df_news['text_joined'].head(5)"
   ]
  },
  {
   "cell_type": "code",
   "execution_count": 30,
   "metadata": {},
   "outputs": [],
   "source": [
    "from nltk.stem import WordNetLemmatizer\n",
    "from nltk.corpus import wordnet\n",
    "\n",
    "#Perform POS tagging and lemmatization.\n",
    "\n",
    "def get_wordnet_pos(word):\n",
    "    \"\"\"Map POS tag to first character lemmatize() accepts\"\"\"\n",
    "    tag = nltk.pos_tag([word])[0][1][0].upper()\n",
    "    tag_dict = {\"J\": wordnet.ADJ,\n",
    "                \"N\": wordnet.NOUN,\n",
    "                \"V\": wordnet.VERB,\n",
    "                \"R\": wordnet.ADV}\n",
    "    \n",
    "    return tag_dict.get(tag, wordnet.NOUN)\n",
    "\n",
    "\n",
    "# 1. Init Lemmatizer\n",
    "lemmatizer = WordNetLemmatizer()\n",
    "\n",
    "# 2. Lemmatize a Sentence with the appropriate POS tag\n",
    "df_news['text_lemmPOS'] = df_news['text_joined'].apply(lambda x: [lemmatizer.lemmatize(w, get_wordnet_pos(w)) for w in nltk.word_tokenize(x)])"
   ]
  },
  {
   "cell_type": "code",
   "execution_count": 31,
   "metadata": {},
   "outputs": [
    {
     "data": {
      "text/plain": [
       "(44898,)"
      ]
     },
     "execution_count": 31,
     "metadata": {},
     "output_type": "execute_result"
    }
   ],
   "source": [
    "df_news['text_lemmPOS'].shape"
   ]
  },
  {
   "cell_type": "code",
   "execution_count": 32,
   "metadata": {},
   "outputs": [
    {
     "data": {
      "text/plain": [
       "0    [donald, trump, sends, embarrass, new, year, e...\n",
       "1    [drunk, bragging, trump, staffer, start, russi...\n",
       "2    [sheriff, david, clarke, becomes, internet, jo...\n",
       "3    [trump, obsess, even, obamas, name, cod, websi...\n",
       "4    [pope, francis, call, donald, trump, christmas...\n",
       "Name: text_lemmPOS, dtype: object"
      ]
     },
     "execution_count": 32,
     "metadata": {},
     "output_type": "execute_result"
    }
   ],
   "source": [
    "df_news['text_lemmPOS'].head(5)"
   ]
  },
  {
   "cell_type": "code",
   "execution_count": 33,
   "metadata": {},
   "outputs": [],
   "source": [
    "df_news['text_final'] = df_news['text_lemmPOS'].apply(lambda x: ' '.join(x)) #Join the list of lemmatized, POS tagged words back into a string."
   ]
  },
  {
   "cell_type": "code",
   "execution_count": 34,
   "metadata": {},
   "outputs": [
    {
     "name": "stdout",
     "output_type": "stream",
     "text": [
      "<class 'pandas.core.frame.DataFrame'>\n",
      "Int64Index: 44898 entries, 0 to 21416\n",
      "Data columns (total 8 columns):\n",
      " #   Column        Non-Null Count  Dtype \n",
      "---  ------        --------------  ----- \n",
      " 0   text          44898 non-null  object\n",
      " 1   subject       44898 non-null  object\n",
      " 2   date          44898 non-null  object\n",
      " 3   fake          44898 non-null  int64 \n",
      " 4   text_clean    44898 non-null  object\n",
      " 5   text_joined   44898 non-null  object\n",
      " 6   text_lemmPOS  44898 non-null  object\n",
      " 7   text_final    44898 non-null  object\n",
      "dtypes: int64(1), object(7)\n",
      "memory usage: 3.1+ MB\n"
     ]
    }
   ],
   "source": [
    "df_news.info()"
   ]
  },
  {
   "cell_type": "code",
   "execution_count": 35,
   "metadata": {},
   "outputs": [],
   "source": [
    "df_news.to_csv('news_all_columns.csv')"
   ]
  },
  {
   "attachments": {},
   "cell_type": "markdown",
   "metadata": {},
   "source": [
    "### Obtaining a non duplicated dataset to test for difference."
   ]
  },
  {
   "cell_type": "code",
   "execution_count": 36,
   "metadata": {},
   "outputs": [],
   "source": [
    "df_fake_unique = df_fake.drop_duplicates('text') #Unique values generated from dropping text in fake set\n",
    "df_true_unique = df_true.drop_duplicates('text') #Unique values generated from dropping text in fake set"
   ]
  },
  {
   "cell_type": "code",
   "execution_count": 37,
   "metadata": {},
   "outputs": [],
   "source": [
    "df_news_unique = pd.concat([df_fake_unique, df_true_unique])"
   ]
  },
  {
   "attachments": {},
   "cell_type": "markdown",
   "metadata": {},
   "source": [
    "### Some preprocessing"
   ]
  },
  {
   "cell_type": "code",
   "execution_count": 38,
   "metadata": {},
   "outputs": [],
   "source": [
    "df_news_unique['text_clean'] = df_news_unique['text'].apply(lambda x: clean_text(x))"
   ]
  },
  {
   "cell_type": "code",
   "execution_count": 39,
   "metadata": {},
   "outputs": [],
   "source": [
    "df_news_unique['text_joined'] = df_news_unique['text_clean'].apply(lambda x: ' '.join(x))"
   ]
  },
  {
   "cell_type": "code",
   "execution_count": 40,
   "metadata": {},
   "outputs": [],
   "source": [
    "df_news_unique['text_lemmPOS'] = df_news_unique['text_joined'].apply(lambda x: [lemmatizer.lemmatize(w, get_wordnet_pos(w)) for w in nltk.word_tokenize(x)])"
   ]
  },
  {
   "cell_type": "code",
   "execution_count": 41,
   "metadata": {},
   "outputs": [],
   "source": [
    "df_news_unique['text_final'] = df_news_unique['text_lemmPOS'].apply(lambda x: ' '.join(x))"
   ]
  },
  {
   "cell_type": "markdown",
   "metadata": {},
   "source": [
    "## Converting & Vectorization"
   ]
  },
  {
   "attachments": {},
   "cell_type": "markdown",
   "metadata": {},
   "source": [
    "## Not Processed"
   ]
  },
  {
   "attachments": {},
   "cell_type": "markdown",
   "metadata": {},
   "source": [
    "### Duplicates"
   ]
  },
  {
   "cell_type": "code",
   "execution_count": 42,
   "metadata": {},
   "outputs": [],
   "source": [
    "from sklearn.feature_extraction.text import TfidfTransformer\n",
    "from sklearn.feature_extraction.text import CountVectorizer\n",
    "from sklearn.feature_extraction.text import TfidfVectorizer\n",
    "\n",
    "x_df_dr = df_news['text'] #Features\n",
    "y_df_dr = df_news['fake'] #Label\n",
    "\n",
    "count_vectorizer_dr = CountVectorizer() \n",
    "tfidf_transformer_dr = TfidfTransformer(norm = \"l2\") \n",
    "\n",
    "vectorized_dr = count_vectorizer_dr.fit_transform(x_df_dr)\n",
    "#freq_term_matrix = count_vectorizer.transform(x_df) #Equal to vectorized\n",
    "\n",
    "tf_idf_matrix_dr = tfidf_transformer_dr.fit_transform(vectorized_dr) #Returns a sparse matrix\n",
    "\n",
    "tf_idf_matrix_transformed_dr = tfidf_transformer_dr.fit(vectorized_dr) #Returns a transformer object\n",
    "\n",
    "#R = raw d=duplicate n=not duplicate"
   ]
  },
  {
   "cell_type": "code",
   "execution_count": 43,
   "metadata": {},
   "outputs": [],
   "source": [
    "# Splitting the data into test data and train data\n",
    "x_train_dr, x_test_dr, y_train_dr, y_test_dr = train_test_split(tf_idf_matrix_dr, y_df_dr, train_size=0.8, test_size=0.2, random_state=42)"
   ]
  },
  {
   "attachments": {},
   "cell_type": "markdown",
   "metadata": {},
   "source": [
    "## Non-duplicates"
   ]
  },
  {
   "cell_type": "code",
   "execution_count": 44,
   "metadata": {},
   "outputs": [],
   "source": [
    "x_df_nr = df_news['text'] #Features\n",
    "y_df_nr = df_news['fake'] #Label\n",
    "\n",
    "count_vectorizer_nr = CountVectorizer() \n",
    "tfidf_transformer_nr = TfidfTransformer(norm = \"l2\") \n",
    "\n",
    "vectorized_nr = count_vectorizer_nr.fit_transform(x_df_nr)\n",
    "#freq_term_matrix = count_vectorizer.transform(x_df) #Equal to vectorized\n",
    "\n",
    "tf_idf_matrix_nr = tfidf_transformer_nr.fit_transform(vectorized_nr) #Returns a sparse matrix\n",
    "\n",
    "tf_idf_matrix_transformed_nr = tfidf_transformer_nr.fit(vectorized_nr) #Returns a transformer object\n",
    "\n",
    "#R = raw d=duplicate n=not duplicate"
   ]
  },
  {
   "cell_type": "code",
   "execution_count": 45,
   "metadata": {},
   "outputs": [],
   "source": [
    "# Splitting the data into test data and train data\n",
    "x_train_nr, x_test_nr, y_train_nr, y_test_nr = train_test_split(tf_idf_matrix_nr, y_df_nr, train_size=0.8, test_size=0.2, random_state=42)"
   ]
  },
  {
   "attachments": {},
   "cell_type": "markdown",
   "metadata": {},
   "source": [
    "## Processed"
   ]
  },
  {
   "attachments": {},
   "cell_type": "markdown",
   "metadata": {},
   "source": [
    "### Duplicates vectorization"
   ]
  },
  {
   "cell_type": "code",
   "execution_count": 46,
   "metadata": {},
   "outputs": [],
   "source": [
    "from sklearn.feature_extraction.text import TfidfTransformer\n",
    "from sklearn.feature_extraction.text import CountVectorizer\n",
    "from sklearn.feature_extraction.text import TfidfVectorizer\n",
    "\n",
    "x_df_dp = df_news['text_final'] #Features\n",
    "y_df_dp = df_news['fake'] #Label\n",
    "\n",
    "count_vectorizer_dp = CountVectorizer() \n",
    "tfidf_transformer_dp = TfidfTransformer(norm = \"l2\") \n",
    "\n",
    "vectorized_dp = count_vectorizer_dp.fit_transform(x_df_dp)\n",
    "#freq_term_matrix = count_vectorizer.transform(x_df) #Equal to vectorized\n",
    "\n",
    "tf_idf_matrix_dp = tfidf_transformer_dp.fit_transform(vectorized_dp) #Returns a sparse matrix\n",
    "\n",
    "tf_idf_matrix_transformed_d = tfidf_transformer_dp.fit(vectorized_dp) #Returns a transformer object\n",
    "\n",
    "#D = duplicate p=processed"
   ]
  },
  {
   "cell_type": "code",
   "execution_count": 47,
   "metadata": {},
   "outputs": [],
   "source": [
    "# Splitting the data into test data and train data\n",
    "x_train_dp, x_test_dp, y_train_dp, y_test_dp = train_test_split(tf_idf_matrix_dp, y_df_dp, train_size=0.8, test_size=0.2, random_state=42)"
   ]
  },
  {
   "attachments": {},
   "cell_type": "markdown",
   "metadata": {},
   "source": [
    "### Non-Duplicates Vectorization"
   ]
  },
  {
   "cell_type": "code",
   "execution_count": 53,
   "metadata": {},
   "outputs": [],
   "source": [
    "from sklearn.feature_extraction.text import TfidfTransformer\n",
    "from sklearn.feature_extraction.text import CountVectorizer\n",
    "from sklearn.feature_extraction.text import TfidfVectorizer\n",
    "\n",
    "x_df_np = df_news_unique['text_final'] #Features\n",
    "y_df_np = df_news_unique['fake'] #Label\n",
    "\n",
    "count_vectorizer_np = CountVectorizer() \n",
    "tfidf_transformer_np = TfidfTransformer(norm = \"l2\") \n",
    "\n",
    "vectorized_np = count_vectorizer_np.fit_transform(x_df_np)\n",
    "#freq_term_matrix = count_vectorizer.transform(x_df) #Equal to vectorized\n",
    "\n",
    "tf_idf_matrix_np = tfidf_transformer_np.fit_transform(vectorized_np) #Returns a sparse matrix\n",
    "\n",
    "tf_idf_matrix_transformed = tfidf_transformer_np.fit(vectorized_np) #Returns a transformer object\n"
   ]
  },
  {
   "attachments": {},
   "cell_type": "markdown",
   "metadata": {},
   "source": []
  },
  {
   "cell_type": "code",
   "execution_count": 54,
   "metadata": {},
   "outputs": [],
   "source": [
    "# Splitting the data into test data and train data\n",
    "x_train_np, x_test_np, y_train_np, y_test_np = train_test_split(tf_idf_matrix_np, y_df_np, train_size=0.8, test_size=0.2, random_state=42)"
   ]
  },
  {
   "cell_type": "markdown",
   "metadata": {},
   "source": [
    "# Models"
   ]
  },
  {
   "attachments": {},
   "cell_type": "markdown",
   "metadata": {},
   "source": [
    "## Processed"
   ]
  },
  {
   "attachments": {},
   "cell_type": "markdown",
   "metadata": {},
   "source": [
    "### Logistic Regression Non-Dup"
   ]
  },
  {
   "cell_type": "code",
   "execution_count": 55,
   "metadata": {},
   "outputs": [
    {
     "name": "stdout",
     "output_type": "stream",
     "text": [
      "Accuracy: 98.65%\n"
     ]
    }
   ],
   "source": [
    "from sklearn.linear_model import LogisticRegression\n",
    "from sklearn.metrics import classification_report, accuracy_score, precision_score, recall_score, f1_score\n",
    "\n",
    "logreg = LogisticRegression()\n",
    "logreg_model_np = logreg.fit(x_train_np, y_train_np)\n",
    "\n",
    "y_pred_logreg_np = logreg.predict(x_test_np)\n",
    "\n",
    "accuracy_log_np = accuracy_score(y_test_np, y_pred_logreg_np)\n",
    "print(f'Accuracy: {round(accuracy_log_np*100,2)}%')"
   ]
  },
  {
   "cell_type": "code",
   "execution_count": 56,
   "metadata": {},
   "outputs": [
    {
     "name": "stdout",
     "output_type": "stream",
     "text": [
      "              precision    recall  f1-score   support\n",
      "\n",
      "           0       0.98      0.99      0.99      4230\n",
      "           1       0.99      0.98      0.99      3500\n",
      "\n",
      "    accuracy                           0.99      7730\n",
      "   macro avg       0.99      0.99      0.99      7730\n",
      "weighted avg       0.99      0.99      0.99      7730\n",
      "\n"
     ]
    }
   ],
   "source": [
    "print(classification_report(y_test_np, y_pred_logreg_np))"
   ]
  },
  {
   "cell_type": "code",
   "execution_count": 57,
   "metadata": {},
   "outputs": [
    {
     "name": "stdout",
     "output_type": "stream",
     "text": [
      "[[4194   36]\n",
      " [  68 3432]]\n",
      "[[TN  FP]\n",
      " [FN  TP]]\n"
     ]
    }
   ],
   "source": [
    "from sklearn.metrics import confusion_matrix  \n",
    "cm_log_np = confusion_matrix(y_test_np, y_pred_logreg_np)  \n",
    "print(cm_log_np)\n",
    "print(\"[[TN  FP]\\n [FN  TP]]\")"
   ]
  },
  {
   "cell_type": "code",
   "execution_count": 58,
   "metadata": {},
   "outputs": [
    {
     "name": "stdout",
     "output_type": "stream",
     "text": [
      "AUC: 99.84%\n"
     ]
    }
   ],
   "source": [
    "from sklearn import metrics\n",
    "#use model to predict probability that given y value is 1\n",
    "y_pred_proba_log_np = logreg_model_np.predict_proba(x_test_np)[::,1]\n",
    "\n",
    "#calculate AUC of model\n",
    "auc_log_np = metrics.roc_auc_score(y_test_np, y_pred_proba_log_np)\n",
    "\n",
    "#print AUC score\n",
    "print(f'AUC: {round(auc_log_np*100,2)}%')\n"
   ]
  },
  {
   "attachments": {},
   "cell_type": "markdown",
   "metadata": {},
   "source": [
    "### Logistic Regression Dup"
   ]
  },
  {
   "cell_type": "code",
   "execution_count": 59,
   "metadata": {},
   "outputs": [
    {
     "name": "stdout",
     "output_type": "stream",
     "text": [
      "Accuracy: 98.7%\n"
     ]
    }
   ],
   "source": [
    "from sklearn.linear_model import LogisticRegression\n",
    "from sklearn.metrics import classification_report, accuracy_score, precision_score, recall_score, f1_score\n",
    "\n",
    "logreg_dp= LogisticRegression()\n",
    "logreg_model_dp = logreg_dp.fit(x_train_dp, y_train_dp)\n",
    "\n",
    "y_pred_logreg_dp= logreg_dp.predict(x_test_dp)\n",
    "\n",
    "accuracy_log_dp = accuracy_score(y_test_dp, y_pred_logreg_dp)\n",
    "print(f'Accuracy: {round(accuracy_log_dp*100,2)}%')"
   ]
  },
  {
   "cell_type": "code",
   "execution_count": 60,
   "metadata": {},
   "outputs": [
    {
     "name": "stdout",
     "output_type": "stream",
     "text": [
      "              precision    recall  f1-score   support\n",
      "\n",
      "           0       0.99      0.99      0.99      4247\n",
      "           1       0.99      0.99      0.99      4733\n",
      "\n",
      "    accuracy                           0.99      8980\n",
      "   macro avg       0.99      0.99      0.99      8980\n",
      "weighted avg       0.99      0.99      0.99      8980\n",
      "\n"
     ]
    }
   ],
   "source": [
    "print(classification_report(y_test_dp, y_pred_logreg_dp))"
   ]
  },
  {
   "cell_type": "code",
   "execution_count": 61,
   "metadata": {},
   "outputs": [
    {
     "name": "stdout",
     "output_type": "stream",
     "text": [
      "[[4191   56]\n",
      " [  61 4672]]\n",
      "[[TN  FP]\n",
      " [FN  TP]]\n"
     ]
    }
   ],
   "source": [
    "from sklearn.metrics import confusion_matrix  \n",
    "cm_log_dp = confusion_matrix(y_test_dp, y_pred_logreg_dp)  \n",
    "print(cm_log_dp)\n",
    "print(\"[[TN  FP]\\n [FN  TP]]\")"
   ]
  },
  {
   "cell_type": "code",
   "execution_count": 62,
   "metadata": {},
   "outputs": [
    {
     "name": "stdout",
     "output_type": "stream",
     "text": [
      "AUC: 99.83%\n"
     ]
    }
   ],
   "source": [
    "from sklearn import metrics\n",
    "#use model to predict probability that given y value is 1\n",
    "y_pred_proba_log_d = logreg_model_dp.predict_proba(x_test_dp)[::,1]\n",
    "\n",
    "#calculate AUC of model\n",
    "auc_log_dp = metrics.roc_auc_score(y_test_dp, y_pred_proba_log_d)\n",
    "\n",
    "#print AUC score\n",
    "print(f'AUC: {round(auc_log_dp*100,2)}%')\n"
   ]
  },
  {
   "attachments": {},
   "cell_type": "markdown",
   "metadata": {},
   "source": [
    "### Nayve-Bayes Non-Dup\n"
   ]
  },
  {
   "cell_type": "code",
   "execution_count": 63,
   "metadata": {},
   "outputs": [
    {
     "name": "stdout",
     "output_type": "stream",
     "text": [
      "Accuracy: 92.17%\n"
     ]
    }
   ],
   "source": [
    "from sklearn.naive_bayes import MultinomialNB\n",
    "NB = MultinomialNB()\n",
    "nb_model_np = NB.fit(x_train_np, y_train_np)\n",
    "y_pred_nb_np = NB.predict(x_test_np)\n",
    "accuracy_nb_np = accuracy_score(y_test_np, y_pred_nb_np)\n",
    "print(f'Accuracy: {round(accuracy_nb_np*100,2)}%')"
   ]
  },
  {
   "cell_type": "code",
   "execution_count": 64,
   "metadata": {},
   "outputs": [
    {
     "name": "stdout",
     "output_type": "stream",
     "text": [
      "              precision    recall  f1-score   support\n",
      "\n",
      "           0       0.88      0.99      0.93      4230\n",
      "           1       0.98      0.84      0.91      3500\n",
      "\n",
      "    accuracy                           0.92      7730\n",
      "   macro avg       0.93      0.92      0.92      7730\n",
      "weighted avg       0.93      0.92      0.92      7730\n",
      "\n"
     ]
    }
   ],
   "source": [
    "print(classification_report(y_test_np, y_pred_nb_np))"
   ]
  },
  {
   "cell_type": "code",
   "execution_count": 65,
   "metadata": {},
   "outputs": [
    {
     "name": "stdout",
     "output_type": "stream",
     "text": [
      "[[4168   62]\n",
      " [ 543 2957]]\n",
      "[[TN  FP]\n",
      " [FN  TP]]\n"
     ]
    }
   ],
   "source": [
    "cm_nb_np = confusion_matrix(y_test_np, y_pred_nb_np)  \n",
    "print(cm_nb_np)\n",
    "print(\"[[TN  FP]\\n [FN  TP]]\")"
   ]
  },
  {
   "cell_type": "code",
   "execution_count": 66,
   "metadata": {},
   "outputs": [
    {
     "name": "stdout",
     "output_type": "stream",
     "text": [
      "AUC: 98.5%\n"
     ]
    }
   ],
   "source": [
    "#use model to predict probability that given y value is 1\n",
    "y_pred_proba_nb_np = nb_model_np.predict_proba(x_test_np)[::,1]\n",
    "\n",
    "#calculate AUC of model\n",
    "auc_nb_np = metrics.roc_auc_score(y_test_np, y_pred_proba_nb_np)\n",
    "\n",
    "#print AUC score\n",
    "print(f'AUC: {round(auc_nb_np*100,2)}%')\n"
   ]
  },
  {
   "attachments": {},
   "cell_type": "markdown",
   "metadata": {},
   "source": [
    "### Nayve-Bayes Dup\n"
   ]
  },
  {
   "cell_type": "code",
   "execution_count": 67,
   "metadata": {},
   "outputs": [
    {
     "name": "stdout",
     "output_type": "stream",
     "text": [
      "Accuracy: 94.1%\n"
     ]
    }
   ],
   "source": [
    "from sklearn.naive_bayes import MultinomialNB\n",
    "NB = MultinomialNB()\n",
    "nb_model_dp = NB.fit(x_train_dp, y_train_dp)\n",
    "y_pred_nb_dp = NB.predict(x_test_dp)\n",
    "accuracy_nb_dp = accuracy_score(y_test_dp, y_pred_nb_dp)\n",
    "print(f'Accuracy: {round(accuracy_nb_dp*100,2)}%')"
   ]
  },
  {
   "cell_type": "code",
   "execution_count": 68,
   "metadata": {},
   "outputs": [
    {
     "name": "stdout",
     "output_type": "stream",
     "text": [
      "              precision    recall  f1-score   support\n",
      "\n",
      "           0       0.94      0.94      0.94      4247\n",
      "           1       0.94      0.95      0.94      4733\n",
      "\n",
      "    accuracy                           0.94      8980\n",
      "   macro avg       0.94      0.94      0.94      8980\n",
      "weighted avg       0.94      0.94      0.94      8980\n",
      "\n"
     ]
    }
   ],
   "source": [
    "print(classification_report(y_test_dp, y_pred_nb_dp))"
   ]
  },
  {
   "cell_type": "code",
   "execution_count": 69,
   "metadata": {},
   "outputs": [
    {
     "name": "stdout",
     "output_type": "stream",
     "text": [
      "[[3973  274]\n",
      " [ 256 4477]]\n",
      "[[TN  FP]\n",
      " [FN  TP]]\n"
     ]
    }
   ],
   "source": [
    "cm_nb_dp = confusion_matrix(y_test_dp, y_pred_nb_dp)  \n",
    "print(cm_nb_dp)\n",
    "print(\"[[TN  FP]\\n [FN  TP]]\")"
   ]
  },
  {
   "cell_type": "code",
   "execution_count": 70,
   "metadata": {},
   "outputs": [
    {
     "name": "stdout",
     "output_type": "stream",
     "text": [
      "AUC: 98.42%\n"
     ]
    }
   ],
   "source": [
    "#use model to predict probability that given y value is 1\n",
    "y_pred_proba_nb_d = nb_model_dp.predict_proba(x_test_dp)[::,1]\n",
    "\n",
    "#calculate AUC of model\n",
    "auc_nb_dp = metrics.roc_auc_score(y_test_dp, y_pred_proba_nb_d)\n",
    "\n",
    "#print AUC score\n",
    "print(f'AUC: {round(auc_nb_dp*100,2)}%')\n"
   ]
  },
  {
   "attachments": {},
   "cell_type": "markdown",
   "metadata": {},
   "source": [
    "### Passive Aggressive Non-dup"
   ]
  },
  {
   "cell_type": "code",
   "execution_count": 71,
   "metadata": {},
   "outputs": [
    {
     "name": "stdout",
     "output_type": "stream",
     "text": [
      "Accuracy: 99.39%\n"
     ]
    }
   ],
   "source": [
    "from sklearn.linear_model import PassiveAggressiveClassifier\n",
    "pac_np=PassiveAggressiveClassifier(max_iter=50)\n",
    "pac_model_np = pac_np.fit(x_train_np,y_train_np)\n",
    "\n",
    "#Predict on the test set and calculate accuracy\n",
    "y_pred_pac_np =pac_np.predict(x_test_np)\n",
    "    \n",
    "accuracy_pac_np=accuracy_score(y_test_np,y_pred_pac_np)\n",
    "print(f'Accuracy: {round(accuracy_pac_np*100,2)}%')"
   ]
  },
  {
   "cell_type": "code",
   "execution_count": 72,
   "metadata": {},
   "outputs": [
    {
     "name": "stdout",
     "output_type": "stream",
     "text": [
      "              precision    recall  f1-score   support\n",
      "\n",
      "           0       0.99      1.00      0.99      4230\n",
      "           1       1.00      0.99      0.99      3500\n",
      "\n",
      "    accuracy                           0.99      7730\n",
      "   macro avg       0.99      0.99      0.99      7730\n",
      "weighted avg       0.99      0.99      0.99      7730\n",
      "\n"
     ]
    }
   ],
   "source": [
    "print(classification_report(y_test_np, y_pred_pac_np))"
   ]
  },
  {
   "cell_type": "code",
   "execution_count": 73,
   "metadata": {},
   "outputs": [
    {
     "name": "stdout",
     "output_type": "stream",
     "text": [
      "[[4214   16]\n",
      " [  31 3469]]\n",
      "[[TN  FP]\n",
      " [FN  TP]]\n"
     ]
    }
   ],
   "source": [
    "cm_pac_np = confusion_matrix(y_test_np, y_pred_pac_np)  \n",
    "print(cm_pac_np)\n",
    "print(\"[[TN  FP]\\n [FN  TP]]\")"
   ]
  },
  {
   "cell_type": "code",
   "execution_count": 74,
   "metadata": {},
   "outputs": [
    {
     "name": "stdout",
     "output_type": "stream",
     "text": [
      "AUC: 99.94%\n"
     ]
    }
   ],
   "source": [
    "#use model to predict probability that given y value is 1\n",
    "y_pred_proba_pac_np = pac_model_np._predict_proba_lr(x_test_np)[::,1]\n",
    "\n",
    "#calculate AUC of model\n",
    "auc_pac_np = metrics.roc_auc_score(y_test_np, y_pred_proba_pac_np)\n",
    "\n",
    "#print AUC score\n",
    "print(f'AUC: {round(auc_pac_np*100,2)}%')"
   ]
  },
  {
   "attachments": {},
   "cell_type": "markdown",
   "metadata": {},
   "source": [
    "### Passive Aggressive Dup"
   ]
  },
  {
   "cell_type": "code",
   "execution_count": 75,
   "metadata": {},
   "outputs": [
    {
     "name": "stdout",
     "output_type": "stream",
     "text": [
      "Accuracy: 99.51%\n"
     ]
    }
   ],
   "source": [
    "from sklearn.linear_model import PassiveAggressiveClassifier\n",
    "pac=PassiveAggressiveClassifier(max_iter=50)\n",
    "pac_model_dp = pac.fit(x_train_dp,y_train_dp)\n",
    "\n",
    "#Predict on the test set and calculate accuracy\n",
    "y_pred_pac_dp =pac.predict(x_test_dp)\n",
    "    \n",
    "accuracy_pac_dp =accuracy_score(y_test_dp,y_pred_pac_dp)\n",
    "print(f'Accuracy: {round(accuracy_pac_dp*100,2)}%')"
   ]
  },
  {
   "cell_type": "code",
   "execution_count": 76,
   "metadata": {},
   "outputs": [
    {
     "name": "stdout",
     "output_type": "stream",
     "text": [
      "              precision    recall  f1-score   support\n",
      "\n",
      "           0       1.00      0.99      0.99      4247\n",
      "           1       0.99      1.00      1.00      4733\n",
      "\n",
      "    accuracy                           1.00      8980\n",
      "   macro avg       1.00      1.00      1.00      8980\n",
      "weighted avg       1.00      1.00      1.00      8980\n",
      "\n"
     ]
    }
   ],
   "source": [
    "print(classification_report(y_test_dp, y_pred_pac_dp))"
   ]
  },
  {
   "cell_type": "code",
   "execution_count": 77,
   "metadata": {},
   "outputs": [
    {
     "name": "stdout",
     "output_type": "stream",
     "text": [
      "[[4222   25]\n",
      " [  19 4714]]\n",
      "[[TN  FP]\n",
      " [FN  TP]]\n"
     ]
    }
   ],
   "source": [
    "cm_pac_dp = confusion_matrix(y_test_dp, y_pred_pac_dp)  \n",
    "print(cm_pac_dp)\n",
    "print(\"[[TN  FP]\\n [FN  TP]]\")"
   ]
  },
  {
   "cell_type": "code",
   "execution_count": 78,
   "metadata": {},
   "outputs": [
    {
     "name": "stdout",
     "output_type": "stream",
     "text": [
      "AUC: 99.96%\n"
     ]
    }
   ],
   "source": [
    "#use model to predict probability that given y value is 1\n",
    "y_pred_proba_pac_dp = pac_model_dp._predict_proba_lr(x_test_dp)[::,1]\n",
    "\n",
    "#calculate AUC of model\n",
    "auc_pac_dp = metrics.roc_auc_score(y_test_dp, y_pred_proba_pac_dp)\n",
    "\n",
    "#print AUC score\n",
    "print(f'AUC: {round(auc_pac_dp*100,2)}%')"
   ]
  },
  {
   "attachments": {},
   "cell_type": "markdown",
   "metadata": {},
   "source": [
    "## Processed"
   ]
  },
  {
   "attachments": {},
   "cell_type": "markdown",
   "metadata": {},
   "source": [
    "### kNN"
   ]
  },
  {
   "cell_type": "code",
   "execution_count": 80,
   "metadata": {},
   "outputs": [
    {
     "data": {
      "image/png": "[encoded data removed]",
      "text/plain": [
       "<Figure size 432x288 with 1 Axes>"
      ]
     },
     "metadata": {
      "needs_background": "light"
     },
     "output_type": "display_data"
    }
   ],
   "source": [
    "from sklearn.neighbors import KNeighborsClassifier\n",
    "#Finding the optimum number of clusters for k-means clustering\n",
    "cluster_numbers = range(1, 10)\n",
    "kmeans = [KNeighborsClassifier(n_neighbors=i) for i in cluster_numbers]\n",
    "kmeans\n",
    "score = [kmeans[i].fit(x_train_dp,y_train_dp).score(x_test_dp, y_test_dp) for i in range(len(kmeans))]\n",
    "score\n",
    "plt.plot(cluster_numbers,score)\n",
    "plt.xlabel('Number of Clusters')\n",
    "plt.ylabel('Score')\n",
    "plt.title('Elbow Curve')\n",
    "plt.show()\n",
    "\n",
    "# knn seems to produce worse score than others, we will not use it."
   ]
  },
  {
   "cell_type": "code",
   "execution_count": 81,
   "metadata": {},
   "outputs": [],
   "source": [
    "#Lets try to normalize and try kNN again\n",
    "from sklearn.preprocessing import MaxAbsScaler\n",
    "scaler = MaxAbsScaler()\n",
    "x_train_scaled = scaler.fit_transform(x_train_dp)\n",
    "x_test_scaled = scaler.transform(x_test_dp)\n",
    "\n"
   ]
  },
  {
   "cell_type": "code",
   "execution_count": 82,
   "metadata": {},
   "outputs": [
    {
     "data": {
      "image/png": "[encoded data removed]",
      "text/plain": [
       "<Figure size 432x288 with 1 Axes>"
      ]
     },
     "metadata": {
      "needs_background": "light"
     },
     "output_type": "display_data"
    }
   ],
   "source": [
    "from sklearn.neighbors import KNeighborsClassifier\n",
    "#Finding the optimum number of clusters for k-means clustering\n",
    "cluster_numbers = range(1, 10)\n",
    "kmeans = [KNeighborsClassifier(n_neighbors=i) for i in cluster_numbers]\n",
    "kmeans\n",
    "score = [kmeans[i].fit(x_train_scaled,y_train_dp).score(x_test_scaled, y_test_dp) for i in range(len(kmeans))]\n",
    "score\n",
    "plt.plot(cluster_numbers,score)\n",
    "plt.xlabel('Number of Clusters')\n",
    "plt.ylabel('Score')\n",
    "plt.title('Optimum Clusters')\n",
    "plt.show()\n",
    "\n",
    "# Normalization seems to not have helped to produce a better score. We will not use it."
   ]
  },
  {
   "attachments": {},
   "cell_type": "markdown",
   "metadata": {},
   "source": [
    "### Not perfoming kNN on non-duplicated"
   ]
  },
  {
   "attachments": {},
   "cell_type": "markdown",
   "metadata": {},
   "source": [
    "# Non-Processed"
   ]
  },
  {
   "attachments": {},
   "cell_type": "markdown",
   "metadata": {},
   "source": [
    "## Logistic Regression Raw Duplicates"
   ]
  },
  {
   "cell_type": "code",
   "execution_count": 83,
   "metadata": {},
   "outputs": [
    {
     "name": "stdout",
     "output_type": "stream",
     "text": [
      "Accuracy: 98.81%\n",
      "              precision    recall  f1-score   support\n",
      "\n",
      "           0       0.99      0.99      0.99      4247\n",
      "           1       0.99      0.99      0.99      4733\n",
      "\n",
      "    accuracy                           0.99      8980\n",
      "   macro avg       0.99      0.99      0.99      8980\n",
      "weighted avg       0.99      0.99      0.99      8980\n",
      "\n",
      "[[4198   49]\n",
      " [  58 4675]]\n",
      "[[TN  FP]\n",
      " [FN  TP]]\n",
      "AUC: 99.8%\n"
     ]
    }
   ],
   "source": [
    "from sklearn.linear_model import LogisticRegression\n",
    "from sklearn.metrics import classification_report, accuracy_score, precision_score, recall_score, f1_score\n",
    "\n",
    "logreg_dr= LogisticRegression()\n",
    "logreg_model_dr = logreg_dr.fit(x_train_dr, y_train_dr)\n",
    "\n",
    "y_pred_logreg_dr= logreg_dr.predict(x_test_dr)\n",
    "\n",
    "accuracy_log_dr = accuracy_score(y_test_dr, y_pred_logreg_dr)\n",
    "print(f'Accuracy: {round(accuracy_log_dr*100,2)}%')\n",
    "\n",
    "print(classification_report(y_test_dr, y_pred_logreg_dr))\n",
    "\n",
    "from sklearn.metrics import confusion_matrix  \n",
    "cm_log_dr = confusion_matrix(y_test_dr, y_pred_logreg_dr)  \n",
    "print(cm_log_dr)\n",
    "print(\"[[TN  FP]\\n [FN  TP]]\")\n",
    "\n",
    "from sklearn import metrics\n",
    "#use model to predict probability that given y value is 1\n",
    "y_pred_proba_log_d = logreg_model_dr.predict_proba(x_test_dr)[::,1]\n",
    "\n",
    "#calculate AUC of model\n",
    "auc_log_dr = metrics.roc_auc_score(y_test_dr, y_pred_proba_log_d)\n",
    "\n",
    "#print AUC score\n",
    "print(f'AUC: {round(auc_log_dr*100,2)}%')\n"
   ]
  },
  {
   "attachments": {},
   "cell_type": "markdown",
   "metadata": {},
   "source": [
    "## Logistic Regression Raw Non-Duplicates"
   ]
  },
  {
   "cell_type": "code",
   "execution_count": 84,
   "metadata": {},
   "outputs": [
    {
     "name": "stdout",
     "output_type": "stream",
     "text": [
      "Accuracy: 98.81%\n",
      "              precision    recall  f1-score   support\n",
      "\n",
      "           0       0.99      0.99      0.99      4247\n",
      "           1       0.99      0.99      0.99      4733\n",
      "\n",
      "    accuracy                           0.99      8980\n",
      "   macro avg       0.99      0.99      0.99      8980\n",
      "weighted avg       0.99      0.99      0.99      8980\n",
      "\n",
      "[[4198   49]\n",
      " [  58 4675]]\n",
      "[[TN  FP]\n",
      " [FN  TP]]\n",
      "AUC: 99.8%\n"
     ]
    }
   ],
   "source": [
    "from sklearn.linear_model import LogisticRegression\n",
    "from sklearn.metrics import classification_report, accuracy_score, precision_score, recall_score, f1_score\n",
    "\n",
    "logreg = LogisticRegression()\n",
    "logreg_model_nr = logreg.fit(x_train_nr, y_train_nr)\n",
    "\n",
    "y_pred_logreg_nr = logreg.predict(x_test_nr)\n",
    "\n",
    "accuracy_log_nr = accuracy_score(y_test_nr, y_pred_logreg_nr)\n",
    "print(f'Accuracy: {round(accuracy_log_nr*100,2)}%')\n",
    "\n",
    "\n",
    "print(classification_report(y_test_nr, y_pred_logreg_nr))\n",
    "\n",
    "from sklearn.metrics import confusion_matrix  \n",
    "cm_log_nr = confusion_matrix(y_test_nr, y_pred_logreg_nr)  \n",
    "print(cm_log_nr)\n",
    "print(\"[[TN  FP]\\n [FN  TP]]\")\n",
    "\n",
    "from sklearn import metrics\n",
    "#use model to predict probability that given y value is 1\n",
    "y_pred_proba_log_nr = logreg_model_nr.predict_proba(x_test_nr)[::,1]\n",
    "\n",
    "#calculate AUC of model\n",
    "auc_log_nr = metrics.roc_auc_score(y_test_nr, y_pred_proba_log_nr)\n",
    "\n",
    "#print AUC score\n",
    "print(f'AUC: {round(auc_log_nr*100,2)}%')"
   ]
  },
  {
   "attachments": {},
   "cell_type": "markdown",
   "metadata": {},
   "source": [
    "## Nayve Bayes Raw and Duplicate"
   ]
  },
  {
   "cell_type": "code",
   "execution_count": 85,
   "metadata": {},
   "outputs": [
    {
     "name": "stdout",
     "output_type": "stream",
     "text": [
      "Accuracy: 93.61%\n",
      "              precision    recall  f1-score   support\n",
      "\n",
      "           0       0.95      0.91      0.93      4247\n",
      "           1       0.92      0.96      0.94      4733\n",
      "\n",
      "    accuracy                           0.94      8980\n",
      "   macro avg       0.94      0.93      0.94      8980\n",
      "weighted avg       0.94      0.94      0.94      8980\n",
      "\n",
      "[[3878  369]\n",
      " [ 205 4528]]\n",
      "[[TN  FP]\n",
      " [FN  TP]]\n",
      "AUC: 98.39%\n"
     ]
    }
   ],
   "source": [
    "from sklearn.naive_bayes import MultinomialNB\n",
    "NB = MultinomialNB()\n",
    "nb_model_dr = NB.fit(x_train_dr, y_train_dr)\n",
    "y_pred_nb_dr = NB.predict(x_test_dr)\n",
    "accuracy_nb_dr = accuracy_score(y_test_dr, y_pred_nb_dr)\n",
    "print(f'Accuracy: {round(accuracy_nb_dr*100,2)}%')\n",
    "\n",
    "print(classification_report(y_test_dr, y_pred_nb_dr))\n",
    "\n",
    "cm_nb_dr = confusion_matrix(y_test_dr, y_pred_nb_dr)  \n",
    "print(cm_nb_dr)\n",
    "print(\"[[TN  FP]\\n [FN  TP]]\")\n",
    "\n",
    "#use model to predict probability that given y value is 1\n",
    "y_pred_proba_nb_dr = nb_model_dr.predict_proba(x_test_dr)[::,1]\n",
    "\n",
    "#calculate AUC of model\n",
    "auc_nb_dr = metrics.roc_auc_score(y_test_dr, y_pred_proba_nb_dr)\n",
    "\n",
    "#print AUC score\n",
    "print(f'AUC: {round(auc_nb_dr*100,2)}%')"
   ]
  },
  {
   "attachments": {},
   "cell_type": "markdown",
   "metadata": {},
   "source": [
    "## Nayve Bayes Raw and Non-Duplicates\n"
   ]
  },
  {
   "cell_type": "code",
   "execution_count": 86,
   "metadata": {},
   "outputs": [
    {
     "name": "stdout",
     "output_type": "stream",
     "text": [
      "Accuracy: 93.61%\n",
      "              precision    recall  f1-score   support\n",
      "\n",
      "           0       0.95      0.91      0.93      4247\n",
      "           1       0.92      0.96      0.94      4733\n",
      "\n",
      "    accuracy                           0.94      8980\n",
      "   macro avg       0.94      0.93      0.94      8980\n",
      "weighted avg       0.94      0.94      0.94      8980\n",
      "\n",
      "[[3878  369]\n",
      " [ 205 4528]]\n",
      "[[TN  FP]\n",
      " [FN  TP]]\n",
      "AUC: 98.39%\n"
     ]
    }
   ],
   "source": [
    "from sklearn.naive_bayes import MultinomialNB\n",
    "NB = MultinomialNB()\n",
    "nb_model_nr = NB.fit(x_train_nr, y_train_nr)\n",
    "y_pred_nb_nr = NB.predict(x_test_nr)\n",
    "accuracy_nb_nr = accuracy_score(y_test_nr, y_pred_nb_nr)\n",
    "print(f'Accuracy: {round(accuracy_nb_nr*100,2)}%')\n",
    "\n",
    "print(classification_report(y_test_nr, y_pred_nb_nr))\n",
    "\n",
    "cm_nb_nr = confusion_matrix(y_test_nr, y_pred_nb_nr)  \n",
    "print(cm_nb_nr)\n",
    "print(\"[[TN  FP]\\n [FN  TP]]\")\n",
    "\n",
    "#use model to predict probability that given y value is 1\n",
    "y_pred_proba_nb_nr = nb_model_nr.predict_proba(x_test_nr)[::,1]\n",
    "\n",
    "#calculate AUC of model\n",
    "auc_nb_nr = metrics.roc_auc_score(y_test_nr, y_pred_proba_nb_nr)\n",
    "\n",
    "#print AUC score\n",
    "print(f'AUC: {round(auc_nb_nr*100,2)}%')"
   ]
  },
  {
   "attachments": {},
   "cell_type": "markdown",
   "metadata": {},
   "source": [
    "## Passive Aggression Raw and Duplicates"
   ]
  },
  {
   "cell_type": "code",
   "execution_count": 87,
   "metadata": {},
   "outputs": [
    {
     "name": "stdout",
     "output_type": "stream",
     "text": [
      "Accuracy: 99.6%\n",
      "              precision    recall  f1-score   support\n",
      "\n",
      "           0       1.00      1.00      1.00      4247\n",
      "           1       1.00      1.00      1.00      4733\n",
      "\n",
      "    accuracy                           1.00      8980\n",
      "   macro avg       1.00      1.00      1.00      8980\n",
      "weighted avg       1.00      1.00      1.00      8980\n",
      "\n",
      "              precision    recall  f1-score   support\n",
      "\n",
      "           0       1.00      1.00      1.00      4247\n",
      "           1       1.00      1.00      1.00      4733\n",
      "\n",
      "    accuracy                           1.00      8980\n",
      "   macro avg       1.00      1.00      1.00      8980\n",
      "weighted avg       1.00      1.00      1.00      8980\n",
      "\n",
      "AUC: 99.94%\n"
     ]
    }
   ],
   "source": [
    "from sklearn.linear_model import PassiveAggressiveClassifier\n",
    "pac=PassiveAggressiveClassifier(max_iter=50)\n",
    "pac_model_dr = pac.fit(x_train_dr,y_train_dr)\n",
    "\n",
    "#Predict on the test set and calculate accuracy\n",
    "y_pred_pac_dr =pac_model_dr.predict(x_test_dr)\n",
    "    \n",
    "accuracy_pac_dr =accuracy_score(y_test_dr,y_pred_pac_dr)\n",
    "print(f'Accuracy: {round(accuracy_pac_dr*100,2)}%')\n",
    "\n",
    "print(classification_report(y_test_dr, y_pred_pac_dr))\n",
    "\n",
    "print(classification_report(y_test_dr, y_pred_pac_dr))\n",
    "\n",
    "#use model to predict probability that given y value is 1\n",
    "y_pred_proba_pac_dr = pac_model_dr._predict_proba_lr(x_test_dr)[::,1]\n",
    "\n",
    "#calculate AUC of model\n",
    "auc_pac_dr = metrics.roc_auc_score(y_test_dr, y_pred_proba_pac_dr)\n",
    "\n",
    "#print AUC score\n",
    "print(f'AUC: {round(auc_pac_dr*100,2)}%')"
   ]
  },
  {
   "attachments": {},
   "cell_type": "markdown",
   "metadata": {},
   "source": [
    "## Passive Aggression Raw and Non-Duplicates"
   ]
  },
  {
   "cell_type": "code",
   "execution_count": 88,
   "metadata": {},
   "outputs": [
    {
     "name": "stdout",
     "output_type": "stream",
     "text": [
      "Accuracy: 99.61%\n",
      "              precision    recall  f1-score   support\n",
      "\n",
      "           0       1.00      1.00      1.00      4247\n",
      "           1       1.00      1.00      1.00      4733\n",
      "\n",
      "    accuracy                           1.00      8980\n",
      "   macro avg       1.00      1.00      1.00      8980\n",
      "weighted avg       1.00      1.00      1.00      8980\n",
      "\n",
      "[[4228   19]\n",
      " [  16 4717]]\n",
      "[[TN  FP]\n",
      " [FN  TP]]\n",
      "AUC: 99.93%\n"
     ]
    }
   ],
   "source": [
    "from sklearn.linear_model import PassiveAggressiveClassifier\n",
    "pac_nr=PassiveAggressiveClassifier(max_iter=50)\n",
    "pac_model_nr = pac_nr.fit(x_train_nr,y_train_nr)\n",
    "\n",
    "#Predict on the test set and calculate accuracy\n",
    "y_pred_pac_nr =pac_nr.predict(x_test_nr)\n",
    "    \n",
    "accuracy_pac_nr=accuracy_score(y_test_nr,y_pred_pac_nr)\n",
    "print(f'Accuracy: {round(accuracy_pac_nr*100,2)}%')\n",
    "\n",
    "print(classification_report(y_test_nr, y_pred_pac_nr))\n",
    "\n",
    "cm_pac_nr = confusion_matrix(y_test_nr, y_pred_pac_nr)  \n",
    "print(cm_pac_nr)\n",
    "print(\"[[TN  FP]\\n [FN  TP]]\")\n",
    "\n",
    "#use model to predict probability that given y value is 1\n",
    "y_pred_proba_pac_nr = pac_model_nr._predict_proba_lr(x_test_nr)[::,1]\n",
    "\n",
    "#calculate AUC of model\n",
    "auc_pac_nr = metrics.roc_auc_score(y_test_nr, y_pred_proba_pac_nr)\n",
    "\n",
    "#print AUC score\n",
    "print(f'AUC: {round(auc_pac_nr*100,2)}%')"
   ]
  },
  {
   "cell_type": "markdown",
   "metadata": {},
   "source": [
    "## Let's do some manual testing!"
   ]
  },
  {
   "cell_type": "code",
   "execution_count": 89,
   "metadata": {},
   "outputs": [],
   "source": [
    "def output_lable(n):\n",
    "    if n == 1:\n",
    "        return \"Fake News\"\n",
    "    elif n == 0:\n",
    "        return \"Not A Fake News\"\n",
    "    \n",
    "def manual_testing(news):\n",
    "    testing_news = {\"text\":[news]}\n",
    "    new_def_test = pd.DataFrame(testing_news)\n",
    "    \n",
    "    new_def_test['text'] = new_def_test['text'].apply(lambda x: clean_text(x))\n",
    "    new_def_test[\"text\"] = new_def_test[\"text\"].apply(lambda x: ' '.join(x))\n",
    "    \n",
    "    new_def_test['text_lemm'] = new_def_test['text'].apply(lambda x: [lemmatizer.lemmatize(w, get_wordnet_pos(w)) for w in nltk.word_tokenize(x)])\n",
    "    \n",
    "    new_def_test['text_final'] = new_def_test['text_lemm'].apply(lambda x: ' '.join(x)) #Join the list of lemmatized, POS tagged words back into a string.\n",
    "    \n",
    "    new_x_test = new_def_test[\"text_final\"]\n",
    "    \n",
    "    #Perform same vectorization on test data\n",
    "    vectorized_test = count_vectorizer_dp.transform(new_x_test)\n",
    "    x_newv_testing = tfidf_transformer_dp.transform(vectorized_test)\n",
    "\n",
    "    pred_LR = logreg_model_dp.predict(x_newv_testing)\n",
    "    pred_NB = nb_model_dp.predict(x_newv_testing)\n",
    "    pred_PA = pac_model_dp.predict(x_newv_testing)\n",
    "    return print(\"\\n\\nLR Prediction: {} \\nNB Prediction: {} \\nPAC Prediction: {}\".format(output_lable(pred_LR[0]),                                                                                                    \n",
    "                                                                                                              output_lable(pred_NB[0]), \n",
    "                                                                                                              output_lable(pred_PA[0])))"
   ]
  },
  {
   "cell_type": "code",
   "execution_count": 90,
   "metadata": {},
   "outputs": [
    {
     "name": "stdout",
     "output_type": "stream",
     "text": [
      "\n",
      "\n",
      "LR Prediction: Fake News \n",
      "NB Prediction: Fake News \n",
      "PAC Prediction: Fake News\n"
     ]
    }
   ],
   "source": [
    "news = str(input())\n",
    "manual_testing(news)"
   ]
  },
  {
   "attachments": {},
   "cell_type": "markdown",
   "metadata": {},
   "source": [
    "### Sample Text:\n",
    "Dina Boluarte has been sworn in as Peru’s new president after left-wing leader Pedro Castillo was removed in an impeachment trial and arrested following his attempt to illegally shut down Congress.\n",
    "\n",
    "The opposition-led legislature on Wednesday afternoon overwhelmingly voted in favour of removing Castillo, who earlier in the day had announced plans to “temporarily” dissolve the legislature and rule by decree.\n",
    "\n",
    "Castillo had said the move aimed to “reestablish the rule of law and democracy” in Peru but it was widely condemned by opposition leaders and others, including Boluarte, his vice president, as an attempted “coup”.\n",
    "\n",
    "Congress asked 60-year-old Boluarte to take over following its impeachment vote, making her the first woman to lead the South American nation. She was sworn in as president until 2026.\n",
    "\n",
    "Boluarte called for a political truce to overcome the crisis and said a new cabinet inclusive of all political stripes would be formed. “There has been an attempted coup … that has not found an echo in the institutions, nor in the street,” she said after her swearing-in.\n",
    "\n",
    "“What I ask for is space, time to rescue the country,” she added."
   ]
  }
 ],
 "metadata": {
  "kernelspec": {
   "display_name": "Python 3.9.14 64-bit",
   "language": "python",
   "name": "python3"
  },
  "language_info": {
   "codemirror_mode": {
    "name": "ipython",
    "version": 3
   },
   "file_extension": ".py",
   "mimetype": "text/x-python",
   "name": "python",
   "nbconvert_exporter": "python",
   "pygments_lexer": "ipython3",
   "version": "3.9.14"
  },
  "orig_nbformat": 4,
  "vscode": {
   "interpreter": {
    "hash": "a665b5d41d17b532ea9890333293a1b812fa0b73c9c25c950b3cedf1bebd0438"
   }
  }
 },
 "nbformat": 4,
 "nbformat_minor": 2
}
